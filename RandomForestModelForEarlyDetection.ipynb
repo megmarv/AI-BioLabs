{
  "cells": [
    {
      "cell_type": "markdown",
      "metadata": {
        "id": "view-in-github",
        "colab_type": "text"
      },
      "source": [
        "<a href=\"https://colab.research.google.com/github/megmarv/AI-BioLabs/blob/Diabetes-Early-Detection/RandomForestModelForEarlyDetection.ipynb\" target=\"_parent\"><img src=\"https://colab.research.google.com/assets/colab-badge.svg\" alt=\"Open In Colab\"/></a>"
      ]
    },
    {
      "cell_type": "code",
      "execution_count": null,
      "metadata": {
        "id": "-k3BvEj1IDL8"
      },
      "outputs": [],
      "source": [
        "import pandas as pd\n",
        "import numpy as np\n",
        "import matplotlib.pyplot as plt\n",
        "import seaborn as sns\n",
        "from sklearn.model_selection import train_test_split, GridSearchCV\n",
        "from sklearn.ensemble import RandomForestClassifier\n",
        "from sklearn.metrics import classification_report, roc_auc_score, roc_curve, confusion_matrix, precision_recall_curve\n",
        "import joblib\n",
        "import shap\n",
        "import random"
      ]
    },
    {
      "cell_type": "code",
      "execution_count": null,
      "metadata": {
        "id": "8XVehESXQg5W"
      },
      "outputs": [],
      "source": [
        "# Load the balanced dataset\n",
        "df = pd.read_csv('/content/drive/MyDrive/cleaned_balanced_diabetes_data.csv')"
      ]
    },
    {
      "cell_type": "code",
      "execution_count": null,
      "metadata": {
        "id": "SQS-RLMGIQpT"
      },
      "outputs": [],
      "source": [
        "# Step 1: Add interaction terms for key symptom pairs\n",
        "df['Polyuria_Polydipsia'] = df['Polyuria_encoded'] * df['Polydipsia_encoded']\n",
        "df['Polyuria_sudden_weight_loss'] = df['Polyuria_encoded'] * df['sudden weight loss_encoded']\n",
        "\n",
        "# Separate features (X) and target (y)\n",
        "X = df.drop(columns=['class_encoded'])\n",
        "y = df['class_encoded']\n",
        "\n",
        "# Split the data into training and testing sets\n",
        "X_train, X_test, y_train, y_test = train_test_split(X, y, test_size=0.2, random_state=42, stratify=y)"
      ]
    },
    {
      "cell_type": "code",
      "execution_count": null,
      "metadata": {
        "colab": {
          "base_uri": "https://localhost:8080/"
        },
        "id": "SuXu9spgIWh6",
        "outputId": "187c143d-355c-4735-caf1-377856a27921"
      },
      "outputs": [
        {
          "name": "stdout",
          "output_type": "stream",
          "text": [
            "Fitting 5 folds for each of 216 candidates, totalling 1080 fits\n",
            "\n",
            "Best Parameters from GridSearchCV:\n",
            "{'max_depth': 20, 'max_features': 'sqrt', 'min_samples_leaf': 1, 'min_samples_split': 2, 'n_estimators': 100}\n",
            "Best AUC-ROC Score (Cross-Validation): 0.9978\n"
          ]
        }
      ],
      "source": [
        "# Step 2: Fine-tune Random Forest using GridSearchCV\n",
        "param_grid = {\n",
        "    'n_estimators': [100, 200, 300],\n",
        "    'max_depth': [10, 20, 30, None],\n",
        "    'min_samples_split': [2, 5, 10],\n",
        "    'min_samples_leaf': [1, 2, 4],\n",
        "    'max_features': ['sqrt', 'log2'],\n",
        "}\n",
        "\n",
        "rf = RandomForestClassifier(random_state=42)\n",
        "grid_search = GridSearchCV(\n",
        "    estimator=rf,\n",
        "    param_grid=param_grid,\n",
        "    cv=5,\n",
        "    scoring={'auc': 'roc_auc', 'recall_neg': 'recall'},\n",
        "    refit='auc',\n",
        "    n_jobs=-1,\n",
        "    verbose=1\n",
        ")\n",
        "grid_search.fit(X_train, y_train)\n",
        "\n",
        "# Best parameters and score\n",
        "print(\"\\nBest Parameters from GridSearchCV:\")\n",
        "print(grid_search.best_params_)\n",
        "print(f\"Best AUC-ROC Score (Cross-Validation): {grid_search.best_score_:.4f}\")\n"
      ]
    },
    {
      "cell_type": "code",
      "execution_count": null,
      "metadata": {
        "id": "Ejyhi-9EIWCZ"
      },
      "outputs": [],
      "source": [
        "# Step 3: Train the best model on the full training set\n",
        "best_rf = grid_search.best_estimator_\n",
        "best_rf.fit(X_train, y_train)\n",
        "\n",
        "# Step 4: Evaluate on the test set\n",
        "y_pred = best_rf.predict(X_test)\n",
        "y_pred_proba = best_rf.predict_proba(X_test)[:, 1]"
      ]
    },
    {
      "cell_type": "code",
      "execution_count": null,
      "metadata": {
        "colab": {
          "base_uri": "https://localhost:8080/"
        },
        "id": "4KVGtrrlTbI9",
        "outputId": "9b323580-7f08-4eb7-e7a2-4b5f276399ed"
      },
      "outputs": [
        {
          "name": "stdout",
          "output_type": "stream",
          "text": [
            "\n",
            "Model saved as 'random_forest_diabetes_model.pkl'\n"
          ]
        }
      ],
      "source": [
        "joblib.dump(best_rf, 'random_forest_diabetes_model.pkl')\n",
        "print(\"\\nModel saved as 'random_forest_diabetes_model.pkl'\")"
      ]
    },
    {
      "cell_type": "code",
      "execution_count": null,
      "metadata": {
        "colab": {
          "base_uri": "https://localhost:8080/"
        },
        "id": "vuUnM-LNQt73",
        "outputId": "b79841a6-bad2-4af5-9096-5c6c4a471983"
      },
      "outputs": [
        {
          "name": "stdout",
          "output_type": "stream",
          "text": [
            "\n",
            "Classification Report (Tuned Model with Interaction Terms):\n",
            "              precision    recall  f1-score   support\n",
            "\n",
            "    Negative       0.98      0.97      0.98        64\n",
            "    Positive       0.97      0.98      0.98        64\n",
            "\n",
            "    accuracy                           0.98       128\n",
            "   macro avg       0.98      0.98      0.98       128\n",
            "weighted avg       0.98      0.98      0.98       128\n",
            "\n"
          ]
        }
      ],
      "source": [
        "# Classification report\n",
        "print(\"\\nClassification Report (Tuned Model with Interaction Terms):\")\n",
        "print(classification_report(y_test, y_pred, target_names=['Negative', 'Positive']))"
      ]
    },
    {
      "cell_type": "code",
      "execution_count": null,
      "metadata": {
        "colab": {
          "base_uri": "https://localhost:8080/"
        },
        "id": "iriTBTrqQvav",
        "outputId": "3c0e8a95-0171-4f8e-fcd4-9f0775080ed1"
      },
      "outputs": [
        {
          "name": "stdout",
          "output_type": "stream",
          "text": [
            "AUC-ROC: 0.9993\n"
          ]
        }
      ],
      "source": [
        "# AUC-ROC\n",
        "auc = roc_auc_score(y_test, y_pred_proba)\n",
        "print(f\"AUC-ROC: {auc:.4f}\")"
      ]
    },
    {
      "cell_type": "code",
      "execution_count": null,
      "metadata": {
        "colab": {
          "base_uri": "https://localhost:8080/",
          "height": 564
        },
        "id": "37NgeiOJQyVW",
        "outputId": "204ee5f0-89de-457a-973f-4eed64b20b2d"
      },
      "outputs": [
        {
          "data": {
            "image/png": "[encoded data removed]",
            "text/plain": [
              "<Figure size 800x600 with 1 Axes>"
            ]
          },
          "metadata": {},
          "output_type": "display_data"
        }
      ],
      "source": [
        "# Step 5: Visualization 1 - ROC Curve\n",
        "fpr, tpr, _ = roc_curve(y_test, y_pred_proba)\n",
        "plt.figure(figsize=(8, 6))\n",
        "plt.plot(fpr, tpr, label=f'ROC Curve (AUC = {auc:.4f})')\n",
        "plt.plot([0, 1], [0, 1], 'k--', label='Random Guess')\n",
        "plt.xlabel('False Positive Rate')\n",
        "plt.ylabel('True Positive Rate')\n",
        "plt.title('ROC Curve')\n",
        "plt.legend(loc='best')\n",
        "plt.grid(True)\n",
        "plt.savefig('roc_curve.png')"
      ]
    },
    {
      "cell_type": "code",
      "execution_count": null,
      "metadata": {
        "colab": {
          "base_uri": "https://localhost:8080/",
          "height": 564
        },
        "id": "bdutj0lZQxei",
        "outputId": "0643ae14-c565-4fab-8f34-dc478ad3edb1"
      },
      "outputs": [
        {
          "data": {
            "image/png": "[encoded data removed]",
            "text/plain": [
              "<Figure size 800x600 with 2 Axes>"
            ]
          },
          "metadata": {},
          "output_type": "display_data"
        }
      ],
      "source": [
        "# Step 6: Visualization 2 - Confusion Matrix\n",
        "cm = confusion_matrix(y_test, y_pred)\n",
        "plt.figure(figsize=(8, 6))\n",
        "sns.heatmap(cm, annot=True, fmt='d', cmap='Blues', xticklabels=['Negative', 'Positive'], yticklabels=['Negative', 'Positive'])\n",
        "plt.xlabel('Predicted')\n",
        "plt.ylabel('True')\n",
        "plt.title('Confusion Matrix')\n",
        "plt.savefig('confusion_matrix.png')"
      ]
    },
    {
      "cell_type": "code",
      "execution_count": null,
      "metadata": {
        "colab": {
          "base_uri": "https://localhost:8080/",
          "height": 564
        },
        "id": "pnFriUfmQ0VK",
        "outputId": "cb4ee03c-58a5-47fe-ba21-53b4d39cbde7"
      },
      "outputs": [
        {
          "data": {
            "image/png": "[encoded data removed]",
            "text/plain": [
              "<Figure size 800x600 with 1 Axes>"
            ]
          },
          "metadata": {},
          "output_type": "display_data"
        }
      ],
      "source": [
        "# Step 7: Visualization 3 - Precision-Recall Curve\n",
        "precision, recall, _ = precision_recall_curve(y_test, y_pred_proba)\n",
        "plt.figure(figsize=(8, 6))\n",
        "plt.plot(recall, precision, label='Precision-Recall Curve')\n",
        "plt.xlabel('Recall')\n",
        "plt.ylabel('Precision')\n",
        "plt.title('Precision-Recall Curve')\n",
        "plt.legend(loc='best')\n",
        "plt.grid(True)\n",
        "plt.savefig('precision_recall_curve.png')"
      ]
    },
    {
      "cell_type": "code",
      "execution_count": null,
      "metadata": {
        "colab": {
          "base_uri": "https://localhost:8080/"
        },
        "id": "cB3ZezqhQ13d",
        "outputId": "a77227a7-3b06-43f5-8e36-5d84662f039f"
      },
      "outputs": [
        {
          "name": "stdout",
          "output_type": "stream",
          "text": [
            "\n",
            "Feature Importance:\n",
            "                        Feature  Importance\n",
            "0              Polyuria_encoded    0.165855\n",
            "1            Polydipsia_encoded    0.162395\n",
            "14               Gender_encoded    0.118574\n",
            "16          Polyuria_Polydipsia    0.096471\n",
            "17  Polyuria_sudden_weight_loss    0.057801\n",
            "10      partial paresis_encoded    0.052764\n",
            "2    sudden weight loss_encoded    0.047570\n",
            "12             Alopecia_encoded    0.037715\n",
            "15                  Age_encoded    0.036869\n",
            "9       delayed healing_encoded    0.033196\n",
            "7               Itching_encoded    0.030043\n",
            "4            Polyphagia_encoded    0.028727\n",
            "8          Irritability_encoded    0.026900\n",
            "6       visual blurring_encoded    0.025566\n",
            "11     muscle stiffness_encoded    0.022839\n",
            "5        Genital thrush_encoded    0.022063\n",
            "3              weakness_encoded    0.018626\n",
            "13              Obesity_encoded    0.016025\n"
          ]
        }
      ],
      "source": [
        "# Step 8: Feature importance analysis\n",
        "feature_importance = pd.DataFrame({\n",
        "    'Feature': X.columns,\n",
        "    'Importance': best_rf.feature_importances_\n",
        "}).sort_values(by='Importance', ascending=False)\n",
        "\n",
        "print(\"\\nFeature Importance:\")\n",
        "print(feature_importance)"
      ]
    },
    {
      "cell_type": "code",
      "execution_count": null,
      "metadata": {
        "id": "_zM1cKJ4Q5rz"
      },
      "outputs": [],
      "source": [
        "# Step 9: Compare with a model without interaction terms\n",
        "X_no_interaction = df.drop(columns=['class_encoded', 'Polyuria_Polydipsia', 'Polyuria_sudden_weight_loss'])\n",
        "X_train_no_int, X_test_no_int, y_train_no_int, y_test_no_int = train_test_split(\n",
        "    X_no_interaction, y, test_size=0.2, random_state=42, stratify=y\n",
        ")\n",
        "\n",
        "rf_no_interaction = RandomForestClassifier(**grid_search.best_params_, random_state=42)\n",
        "rf_no_interaction.fit(X_train_no_int, y_train_no_int)\n",
        "\n",
        "y_pred_no_int = rf_no_interaction.predict(X_test_no_int)\n",
        "y_pred_proba_no_int = rf_no_interaction.predict_proba(X_test_no_int)[:, 1]"
      ]
    },
    {
      "cell_type": "code",
      "execution_count": null,
      "metadata": {
        "colab": {
          "base_uri": "https://localhost:8080/"
        },
        "id": "z-Z7tm4AQ33X",
        "outputId": "d2f47ad1-8c03-46f0-e980-d5ea8dd3556b"
      },
      "outputs": [
        {
          "name": "stdout",
          "output_type": "stream",
          "text": [
            "\n",
            "Classification Report (Tuned Model without Interaction Terms):\n",
            "              precision    recall  f1-score   support\n",
            "\n",
            "    Negative       1.00      0.97      0.98        64\n",
            "    Positive       0.97      1.00      0.98        64\n",
            "\n",
            "    accuracy                           0.98       128\n",
            "   macro avg       0.98      0.98      0.98       128\n",
            "weighted avg       0.98      0.98      0.98       128\n",
            "\n"
          ]
        }
      ],
      "source": [
        "print(\"\\nClassification Report (Tuned Model without Interaction Terms):\")\n",
        "print(classification_report(y_test_no_int, y_pred_no_int, target_names=['Negative', 'Positive']))"
      ]
    },
    {
      "cell_type": "code",
      "execution_count": null,
      "metadata": {
        "colab": {
          "base_uri": "https://localhost:8080/"
        },
        "id": "GlsljHnrQ8Xp",
        "outputId": "1bfb11fc-b6a2-4763-ce9a-52561a37beaa"
      },
      "outputs": [
        {
          "name": "stdout",
          "output_type": "stream",
          "text": [
            "AUC-ROC (without Interaction Terms): 0.9993\n"
          ]
        }
      ],
      "source": [
        "auc_no_int = roc_auc_score(y_test_no_int, y_pred_proba_no_int)\n",
        "print(f\"AUC-ROC (without Interaction Terms): {auc_no_int:.4f}\")"
      ]
    },
    {
      "cell_type": "code",
      "execution_count": null,
      "metadata": {
        "colab": {
          "base_uri": "https://localhost:8080/"
        },
        "id": "PGH5shewbz45",
        "outputId": "71f3b78f-7a11-4c53-a0a8-97bcfa971acb"
      },
      "outputs": [
        {
          "name": "stdout",
          "output_type": "stream",
          "text": [
            "Loaded the saved Random Forest model from 'random_forest_diabetes_model.pkl'\n"
          ]
        }
      ],
      "source": [
        "# Step 1: Load the saved model\n",
        "model = joblib.load('random_forest_diabetes_model.pkl')\n",
        "print(\"Loaded the saved Random Forest model from 'random_forest_diabetes_model.pkl'\")"
      ]
    },
    {
      "cell_type": "code",
      "execution_count": null,
      "metadata": {
        "id": "dI0ZqrP4b3Wr"
      },
      "outputs": [],
      "source": [
        "# Step 2: Select a random sample from the dataset\n",
        "random_idx = random.randint(0, len(df) - 1)\n",
        "sample = df.iloc[[random_idx]]  # Keep all columns, including class_encoded\n",
        "features = sample.drop(columns=['class_encoded'])  # Features for prediction\n",
        "true_label = sample['class_encoded'].iloc[0]  # True label"
      ]
    },
    {
      "cell_type": "code",
      "execution_count": null,
      "metadata": {
        "id": "T4-gL44rb493"
      },
      "outputs": [],
      "source": [
        "# Step 3: Make a prediction\n",
        "predicted_label = model.predict(features)[0]\n",
        "predicted_proba = model.predict_proba(features)[0]"
      ]
    },
    {
      "cell_type": "code",
      "execution_count": null,
      "metadata": {
        "id": "FAWwM9_sb6fz"
      },
      "outputs": [],
      "source": [
        "# Convert labels to human-readable form\n",
        "class_names = ['Negative', 'Positive']\n",
        "true_label_name = class_names[true_label]\n",
        "predicted_label_name = class_names[predicted_label]\n",
        "\n",
        "# Determine if the prediction was correct\n",
        "prediction_correct = true_label == predicted_label"
      ]
    },
    {
      "cell_type": "code",
      "execution_count": null,
      "metadata": {
        "colab": {
          "base_uri": "https://localhost:8080/"
        },
        "id": "ZI306cGFb8i5",
        "outputId": "4d23af49-357d-4879-d11a-cae3c15719ff"
      },
      "outputs": [
        {
          "name": "stdout",
          "output_type": "stream",
          "text": [
            "\n",
            "Selected Sample (Full Row):\n",
            " Polyuria_encoded  Polydipsia_encoded  sudden weight loss_encoded  weakness_encoded  Polyphagia_encoded  Genital thrush_encoded  visual blurring_encoded  Itching_encoded  Irritability_encoded  delayed healing_encoded  partial paresis_encoded  muscle stiffness_encoded  Alopecia_encoded  Obesity_encoded  Gender_encoded  Age_encoded  class_encoded  Polyuria_Polydipsia  Polyuria_sudden_weight_loss\n",
            "                1                   1                           1                 1                   1                       0                        1                1                     1                        1                        1                         1                 0                0               1            1              1                    1                            1\n"
          ]
        }
      ],
      "source": [
        "# Step 4: Display the full sample (all columns and rows)\n",
        "print(\"\\nSelected Sample (Full Row):\")\n",
        "print(sample.to_string(index=False))"
      ]
    },
    {
      "cell_type": "code",
      "execution_count": null,
      "metadata": {
        "colab": {
          "base_uri": "https://localhost:8080/"
        },
        "id": "yls_yYEAb-pP",
        "outputId": "df68b275-36fb-4f93-e6d3-1e4f2d960744"
      },
      "outputs": [
        {
          "name": "stdout",
          "output_type": "stream",
          "text": [
            "\n",
            "Prediction Details:\n",
            "True Label: Positive\n",
            "Predicted Label: Positive\n",
            "Prediction Correct: True\n",
            "Prediction Probabilities: Negative = 0.0000, Positive = 1.0000\n"
          ]
        }
      ],
      "source": [
        "# Step 5: Display prediction details\n",
        "print(\"\\nPrediction Details:\")\n",
        "print(f\"True Label: {true_label_name}\")\n",
        "print(f\"Predicted Label: {predicted_label_name}\")\n",
        "print(f\"Prediction Correct: {prediction_correct}\")\n",
        "print(f\"Prediction Probabilities: Negative = {predicted_proba[0]:.4f}, Positive = {predicted_proba[1]:.4f}\")"
      ]
    },
    {
      "cell_type": "code",
      "execution_count": null,
      "metadata": {
        "colab": {
          "base_uri": "https://localhost:8080/"
        },
        "id": "c-yCextucAZz",
        "outputId": "5be9cb47-c692-4288-b0f9-e9b892a44e3c"
      },
      "outputs": [
        {
          "name": "stdout",
          "output_type": "stream",
          "text": [
            "\n",
            "Prediction Probabilities (Text-Based Visualization):\n",
            "Negative   | -------------------------------------------------- 0.0000\n",
            "Positive   | ██████████████████████████████████████████████████ 1.0000\n"
          ]
        }
      ],
      "source": [
        "# Step 6: Text-based visualization for prediction probabilities\n",
        "print(\"\\nPrediction Probabilities (Text-Based Visualization):\")\n",
        "max_bar_length = 50  # Maximum length of the bar in characters\n",
        "for i, (class_name, prob) in enumerate(zip(class_names, predicted_proba)):\n",
        "    bar_length = int(prob * max_bar_length)\n",
        "    bar = '█' * bar_length + '-' * (max_bar_length - bar_length)\n",
        "    print(f\"{class_name:<10} | {bar} {prob:.4f}\")"
      ]
    },
    {
      "cell_type": "code",
      "execution_count": null,
      "metadata": {
        "id": "5HAtdRaWd1Tk"
      },
      "outputs": [],
      "source": [
        "# Step 16: Text-based visualization for SHAP feature contributions\n",
        "explainer = shap.TreeExplainer(model)\n",
        "shap_values = explainer.shap_values(features)\n",
        "\n",
        "# Extract SHAP values for the Positive class (index 1)\n",
        "shap_values_positive = shap_values[1][0]  # Shape (1, n_features) -> (n_features,)\n",
        "shap_df = pd.DataFrame({\n",
        "    'Feature': features.columns,\n",
        "    'SHAP Value': shap_values_positive\n",
        "}).sort_values(by='SHAP Value', key=abs, ascending=False)\n",
        "\n",
        "print(\"\\nSHAP Feature Contributions for Test Sample (Predicted: {}):\".format(predicted_label_name))\n",
        "print(shap_df.to_string(index=False))"
      ]
    },
    {
      "cell_type": "code",
      "execution_count": null,
      "metadata": {
        "colab": {
          "base_uri": "https://localhost:8080/"
        },
        "id": "N2HcHaVdrhk4",
        "outputId": "2b5f5f94-4ec8-4853-8f28-c9a885954d34"
      },
      "outputs": [
        {
          "output_type": "stream",
          "name": "stdout",
          "text": [
            "Model loaded successfully from 'random_forest_diabetes_model.pkl'\n",
            "\n",
            "Welcome to the Diabetes Prediction Tool!\n",
            "This tool will ask you a series of questions about your age, gender, and symptoms.\n",
            "Based on your answers, it will predict whether you are likely to have diabetes.\n",
            "For most questions, please answer with 0 for No or 1 for Yes.\n",
            "Let's get started!\n",
            "\n",
            "Please answer the following questions:\n",
            "What is your age? (Enter a positive number, e.g., 45): 45\n",
            "What is your gender (0 for Female, 1 for Male)? (Enter 0 for Female, 1 for Male): 1\n",
            "Do you have frequent urination (Polyuria)? (Enter 0 for No, 1 for Yes): 0\n",
            "Do you have excessive thirst (Polydipsia)? (Enter 0 for No, 1 for Yes): 0\n",
            "Do you have sudden weight loss? (Enter 0 for No, 1 for Yes): 0\n",
            "Do you have general weakness or fatigue? (Enter 0 for No, 1 for Yes): 0\n",
            "Do you have excessive hunger (Polyphagia)? (Enter 0 for No, 1 for Yes): 0\n",
            "Do you have genital thrush (a yeast infection in the genital area)? (Enter 0 for No, 1 for Yes): 1\n",
            "Do you have blurred vision? (Enter 0 for No, 1 for Yes): 0\n",
            "Do you have persistent itching? (Enter 0 for No, 1 for Yes): 1\n",
            "Do you have irritability or mood swings? (Enter 0 for No, 1 for Yes): 0\n",
            "Do you have delayed healing of wounds? (Enter 0 for No, 1 for Yes): 1\n",
            "Do you have partial paralysis or muscle weakness (Partial Paresis)? (Enter 0 for No, 1 for Yes): 0\n",
            "Do you have muscle stiffness? (Enter 0 for No, 1 for Yes): 0\n",
            "Do you have hair loss (Alopecia)? (Enter 0 for No, 1 for Yes): 1\n",
            "Do you have obesity (being significantly overweight)? (Enter 0 for No, 1 for Yes): 0\n",
            "\n",
            "Prediction Result:\n",
            "Diabetes Diagnosis Prediction: Negative\n",
            "This means the model predicts you are unlikely to have diabetes.\n",
            "\n",
            "Prediction Probabilities:\n",
            "  Likelihood of Negative (No diabetes): 0.9049\n",
            "  Likelihood of Positive (Has diabetes): 0.0951\n",
            "\n",
            "Prediction Probabilities Visualization:\n",
            "Negative (No diabetes)    | █████████████████████████████████████████████----- 0.9049\n",
            "Positive (Has diabetes)   | ████---------------------------------------------- 0.0951\n",
            "\n",
            "Note: This prediction is based on a machine learning model and should not replace professional medical advice.\n",
            "Please consult a healthcare provider for an accurate diagnosis.\n"
          ]
        }
      ],
      "source": [
        "import pandas as pd\n",
        "import joblib\n",
        "import numpy as np\n",
        "\n",
        "# Define the features expected by the model (excluding interaction terms and class_encoded)\n",
        "FEATURES = [\n",
        "    'Age', 'Gender_encoded', 'Polyuria_encoded', 'Polydipsia_encoded',\n",
        "    'sudden weight loss_encoded', 'weakness_encoded', 'Polyphagia_encoded',\n",
        "    'Genital thrush_encoded', 'visual blurring_encoded', 'Itching_encoded',\n",
        "    'Irritability_encoded', 'delayed healing_encoded', 'partial paresis_encoded',\n",
        "    'muscle stiffness_encoded', 'Alopecia_encoded', 'Obesity_encoded'\n",
        "]\n",
        "\n",
        "# Friendly descriptions for each feature\n",
        "FEATURE_DESCRIPTIONS = {\n",
        "    'Age': 'your age (a positive number, e.g., 45)',\n",
        "    'Gender_encoded': 'your gender (0 for Female, 1 for Male)',\n",
        "    'Polyuria_encoded': 'frequent urination (Polyuria)',\n",
        "    'Polydipsia_encoded': 'excessive thirst (Polydipsia)',\n",
        "    'sudden weight loss_encoded': 'sudden weight loss',\n",
        "    'weakness_encoded': 'general weakness or fatigue',\n",
        "    'Polyphagia_encoded': 'excessive hunger (Polyphagia)',\n",
        "    'Genital thrush_encoded': 'genital thrush (a yeast infection in the genital area)',\n",
        "    'visual blurring_encoded': 'blurred vision',\n",
        "    'Itching_encoded': 'persistent itching',\n",
        "    'Irritability_encoded': 'irritability or mood swings',\n",
        "    'delayed healing_encoded': 'delayed healing of wounds',\n",
        "    'partial paresis_encoded': 'partial paralysis or muscle weakness (Partial Paresis)',\n",
        "    'muscle stiffness_encoded': 'muscle stiffness',\n",
        "    'Alopecia_encoded': 'hair loss (Alopecia)',\n",
        "    'Obesity_encoded': 'obesity (being significantly overweight)'\n",
        "}\n",
        "\n",
        "# Load the saved Random Forest model\n",
        "try:\n",
        "    model = joblib.load('/content/drive/MyDrive/random_forest_diabetes_model.pkl0')\n",
        "    print(\"Model loaded successfully from 'random_forest_diabetes_model.pkl'\")\n",
        "except FileNotFoundError:\n",
        "    print(\"Error: Model file 'random_forest_diabetes_model.pkl' not found.\")\n",
        "    exit(1)\n",
        "\n",
        "# Function to validate binary input (0 or 1)\n",
        "def get_binary_input(feature, description):\n",
        "    while True:\n",
        "        try:\n",
        "            prompt = f\"Do you have {description}? (Enter 0 for No, 1 for Yes): \"\n",
        "            if feature == 'Gender_encoded':\n",
        "                prompt = f\"What is {description}? (Enter 0 for Female, 1 for Male): \"\n",
        "            value = int(input(prompt))\n",
        "            if value in [0, 1]:\n",
        "                return value\n",
        "            else:\n",
        "                print(\"Please enter 0 or 1.\")\n",
        "        except ValueError:\n",
        "            print(\"Invalid input. Please enter a number (0 for No, 1 for Yes).\")\n",
        "\n",
        "# Function to validate age input (positive integer)\n",
        "def get_age_input():\n",
        "    while True:\n",
        "        try:\n",
        "            age = int(input(\"What is your age? (Enter a positive number, e.g., 45): \"))\n",
        "            if age > 0:\n",
        "                return age\n",
        "            else:\n",
        "                print(\"Please enter a positive number for age.\")\n",
        "        except ValueError:\n",
        "            print(\"Invalid input. Please enter a valid number.\")\n",
        "\n",
        "# Introduction for the user\n",
        "print(\"\\nWelcome to the Diabetes Prediction Tool!\")\n",
        "print(\"This tool will ask you a series of questions about your age, gender, and symptoms.\")\n",
        "print(\"Based on your answers, it will predict whether you are likely to have diabetes.\")\n",
        "print(\"For most questions, please answer with 0 for No or 1 for Yes.\")\n",
        "print(\"Let's get started!\\n\")\n",
        "\n",
        "# Prompt user for input\n",
        "print(\"Please answer the following questions:\")\n",
        "input_data = {}\n",
        "for feature in FEATURES:\n",
        "    description = FEATURE_DESCRIPTIONS[feature]\n",
        "    if feature == 'Age':\n",
        "        input_data[feature] = get_age_input()\n",
        "    else:\n",
        "        input_data[feature] = get_binary_input(feature, description)\n",
        "\n",
        "# Compute interaction terms\n",
        "input_data['Polyuria_Polydipsia'] = input_data['Polyuria_encoded'] * input_data['Polydipsia_encoded']\n",
        "input_data['Polyuria_sudden_weight_loss'] = input_data['Polyuria_encoded'] * input_data['sudden weight loss_encoded']\n",
        "\n",
        "# Create a DataFrame for the input\n",
        "input_df = pd.DataFrame([input_data])\n",
        "\n",
        "# Ensure the DataFrame has the same feature order as the training data\n",
        "# Add missing features with default 0 (if any)\n",
        "model_features = model.feature_names_in_ if hasattr(model, 'feature_names_in_') else FEATURES + ['Polyuria_Polydipsia', 'Polyuria_sudden_weight_loss']\n",
        "for feature in model_features:\n",
        "    if feature not in input_df.columns:\n",
        "        input_df[feature] = 0\n",
        "\n",
        "# Reorder columns to match model's expected order\n",
        "input_df = input_df[model_features]\n",
        "\n",
        "# Make prediction\n",
        "try:\n",
        "    predicted_label = model.predict(input_df)[0]\n",
        "    predicted_proba = model.predict_proba(input_df)[0]\n",
        "except Exception as e:\n",
        "    print(f\"Error during prediction: {e}\")\n",
        "    exit(1)\n",
        "\n",
        "# Convert label to human-readable form\n",
        "class_names = ['Negative', 'Positive']\n",
        "predicted_label_name = class_names[predicted_label]\n",
        "\n",
        "# Display results\n",
        "print(\"\\nPrediction Result:\")\n",
        "print(f\"Diabetes Diagnosis Prediction: {predicted_label_name}\")\n",
        "if predicted_label_name == 'Positive':\n",
        "    print(\"This means the model predicts you may have diabetes.\")\n",
        "else:\n",
        "    print(\"This means the model predicts you are unlikely to have diabetes.\")\n",
        "print(\"\\nPrediction Probabilities:\")\n",
        "print(f\"  Likelihood of Negative (No diabetes): {predicted_proba[0]:.4f}\")\n",
        "print(f\"  Likelihood of Positive (Has diabetes): {predicted_proba[1]:.4f}\")\n",
        "\n",
        "# Text-based visualization for probabilities\n",
        "print(\"\\nPrediction Probabilities Visualization:\")\n",
        "max_bar_length = 50\n",
        "for class_name, prob in zip(class_names, predicted_proba):\n",
        "    bar_length = int(prob * max_bar_length)\n",
        "    bar = '█' * bar_length + '-' * (max_bar_length - bar_length)\n",
        "    label = \"Negative (No diabetes)\" if class_name == 'Negative' else \"Positive (Has diabetes)\"\n",
        "    print(f\"{label:<25} | {bar} {prob:.4f}\")\n",
        "\n",
        "print(\"\\nNote: This prediction is based on a machine learning model and should not replace professional medical advice.\")\n",
        "print(\"Please consult a healthcare provider for an accurate diagnosis.\")"
      ]
    }
  ],
  "metadata": {
    "colab": {
      "provenance": [],
      "mount_file_id": "1R9iywVSWBkR_sqlsUTO6wcg9eMoFBRmH",
      "authorship_tag": "ABX9TyMkAMYgZC9O5e6v4pDl6X5e",
      "include_colab_link": true
    },
    "kernelspec": {
      "display_name": "Python 3",
      "name": "python3"
    },
    "language_info": {
      "name": "python"
    }
  },
  "nbformat": 4,
  "nbformat_minor": 0
}